{
 "metadata": {
  "name": ""
 },
 "nbformat": 3,
 "nbformat_minor": 0,
 "worksheets": [
  {
   "cells": [
    {
     "cell_type": "heading",
     "level": 1,
     "metadata": {},
     "source": [
      "How to convert 'Gesetze-im-Internet'-XML to geoff using openlaws node-attributes"
     ]
    },
    {
     "cell_type": "code",
     "collapsed": false,
     "input": [
      "import os\n",
      "os.chdir(\"../src/openlawsgii/\")"
     ],
     "language": "python",
     "metadata": {},
     "outputs": [],
     "prompt_number": 7
    },
    {
     "cell_type": "code",
     "collapsed": true,
     "input": [
      "import giigraph"
     ],
     "language": "python",
     "metadata": {},
     "outputs": [],
     "prompt_number": 8
    },
    {
     "cell_type": "code",
     "collapsed": false,
     "input": [
      "urhebergraph = giigraph.GiiGraph()"
     ],
     "language": "python",
     "metadata": {},
     "outputs": [],
     "prompt_number": 9
    },
    {
     "cell_type": "code",
     "collapsed": false,
     "input": [
      "urhebergraph.__doc__"
     ],
     "language": "python",
     "metadata": {},
     "outputs": [
      {
       "metadata": {},
       "output_type": "pyout",
       "prompt_number": 10,
       "text": [
        "'\\n    GiiGraph represents the attribute Node structure\\n    '"
       ]
      }
     ],
     "prompt_number": 10
    },
    {
     "cell_type": "markdown",
     "metadata": {},
     "source": [
      "let's read in a law file of gesetze im internet. the file is xml using gii-norm.dtd"
     ]
    },
    {
     "cell_type": "code",
     "collapsed": false,
     "input": [
      "urhebergraph.add_gii_xmlfile(\"../../BJNR012730965.xml\")"
     ],
     "language": "python",
     "metadata": {},
     "outputs": [],
     "prompt_number": 5
    },
    {
     "cell_type": "markdown",
     "metadata": {},
     "source": [
      "that went okay. now we can check the attributes of the root node to get the catalogue metadata"
     ]
    },
    {
     "cell_type": "code",
     "collapsed": false,
     "input": [
      "urhebergraph.node.get(\"GermanLegalObject\")"
     ],
     "language": "python",
     "metadata": {},
     "outputs": [
      {
       "metadata": {},
       "output_type": "pyout",
       "prompt_number": 6,
       "text": [
        "{'author': 'BGBl I',\n",
        " 'date_of_document': '20141215221017',\n",
        " 'date_of_effect': '1965-09-09',\n",
        " 'description': u'Gesetz \\xfcber Urheberrecht und verwandte Schutzrechte',\n",
        " 'external_ID': 'BJNR012730965',\n",
        " 'link_to_document': 'URI',\n",
        " 'name_of_legal_object': 'Urheberrechtsgesetz',\n",
        " 'type': 'Bundesgesetz'}"
       ]
      }
     ],
     "prompt_number": 6
    },
    {
     "cell_type": "markdown",
     "metadata": {},
     "source": [
      "The attributes of each node are stored as hashable. they are conform to the openlaws attribute model.\n",
      "\n",
      "All other nodes are article nodes. each of them link to its parent 'GermanLegalObject'. All article nodes are linked via edges to describe the dependencies in the whole law document. Since giigraph is a just a small prototype this time, there are no more kind of edges used (e.g. versioning of older articles). However, giigraph is definend to inherit from networkx.MultiDiGraph to provide further definition abilities. "
     ]
    },
    {
     "cell_type": "code",
     "collapsed": false,
     "input": [
      "urhebergraph.predecessors(\"GermanLegalArticle_210\")"
     ],
     "language": "python",
     "metadata": {},
     "outputs": [
      {
       "metadata": {},
       "output_type": "pyout",
       "prompt_number": 8,
       "text": [
        "['GermanLegalArticle_209', 'GermanLegalObject']"
       ]
      }
     ],
     "prompt_number": 8
    },
    {
     "cell_type": "code",
     "collapsed": false,
     "input": [
      "urhebergraph.successors(\"GermanLegalArticle_210\")"
     ],
     "language": "python",
     "metadata": {},
     "outputs": [
      {
       "metadata": {},
       "output_type": "pyout",
       "prompt_number": 9,
       "text": [
        "['GermanLegalArticle_211']"
       ]
      }
     ],
     "prompt_number": 9
    },
    {
     "cell_type": "code",
     "collapsed": false,
     "input": [
      "urhebergraph.node.get(\"GermanLegalArticle_210\")"
     ],
     "language": "python",
     "metadata": {},
     "outputs": [
      {
       "metadata": {},
       "output_type": "pyout",
       "prompt_number": 11,
       "text": [
        "{'author': 'BGBl I',\n",
        " 'date_of_document': '20141215221018',\n",
        " 'date_of_effect': '1965-09-09',\n",
        " 'entire_text_of_legal_article': [u'(1) Das Register anonymer und pseudonymer Werke f\\xfcr die in \\xa7 66 Abs. 2 Satz 2\\n                        vorgesehenen Eintragungen wird beim Patentamt gef\\xfchrt. Das Patentamt bewirkt\\n                        die Eintragungen, ohne die Berechtigung des Antragstellers oder die\\n                        Richtigkeit der zur Eintragung angemeldeten Tatsachen zu pr\\xfcfen.',\n",
        "  u'(2) Wird die Eintragung abgelehnt, so kann der Antragsteller gerichtliche\\n                        Entscheidung beantragen. \\xdcber den Antrag entscheidet das f\\xfcr den Sitz des\\n                        Patentamts zust\\xe4ndige Oberlandesgericht durch einen mit Gr\\xfcnden versehenen\\n                        Beschlu\\xdf. Der Antrag ist schriftlich bei dem Oberlandesgericht einzureichen.\\n                        Die Entscheidung des Oberlandesgerichts ist endg\\xfcltig. Im \\xfcbrigen gelten f\\xfcr\\n                        das gerichtliche Verfahren die Vorschriften des Gesetzes \\xfcber das Verfahren\\n                        in Familiensachen und in den Angelegenheiten der freiwilligen\\n                        Gerichtsbarkeit entsprechend.',\n",
        "  u'(3) Die Eintragungen werden im Bundesanzeiger \\xf6ffentlich bekanntgemacht. Die\\n                        Kosten f\\xfcr die Bekanntmachung hat der Antragsteller im voraus zu\\n                        entrichten.',\n",
        "  u'(4) Die Einsicht in das Register ist jedem gestattet. Auf Antrag werden\\n                        Ausz\\xfcge aus dem Register erteilt.',\n",
        "  u'(5) Der Bundesminister der Justiz wird erm\\xe4chtigt, durch Rechtsverordnung ',\n",
        "  u'(6) Eintragungen, die nach \\xa7 56 des Gesetzes betreffend das Urheberrecht an\\n                        Werken der Literatur und der Tonkunst vom 19. Juni 1901 beim Stadtrat in\\n                        Leipzig vorgenommen worden sind, bleiben wirksam.'],\n",
        " 'external_ID': u'\\xa7 138',\n",
        " 'link_to_document': 'URI',\n",
        " 'name_of_legal_object': 'Register anonymer und pseudonymer Werke'}"
       ]
      }
     ],
     "prompt_number": 11
    },
    {
     "cell_type": "heading",
     "level": 2,
     "metadata": {},
     "source": [
      "Converting a networkx-graph"
     ]
    },
    {
     "cell_type": "markdown",
     "metadata": {},
     "source": [
      "giigraph is using neonx to convert its graph representation to the geoff format's json string. "
     ]
    },
    {
     "cell_type": "code",
     "collapsed": false,
     "input": [
      "giigeoff = urhebergraph.export2geoff()"
     ],
     "language": "python",
     "metadata": {},
     "outputs": [],
     "prompt_number": 11
    },
    {
     "cell_type": "markdown",
     "metadata": {},
     "source": [
      "lets print out the first 3k chars of this string"
     ]
    },
    {
     "cell_type": "code",
     "collapsed": false,
     "input": [
      "giigeoff[:3000]\n"
     ],
     "language": "python",
     "metadata": {},
     "outputs": [
      {
       "metadata": {},
       "output_type": "pyout",
       "prompt_number": 24,
       "text": [
        "'(GermanLegalArticle_214 {\"link_to_document\": \"URI\", \"name_of_legal_object\": \"(weggefallen)\", \"entire_text_of_legal_article\": [\"-\"], \"date_of_effect\": \"1965-09-09\", \"author\": \"BGBl I\", \"date_of_document\": \"20141215221018\", \"external_ID\": \"\\\\u00a7 142\"})\\n(GermanLegalArticle_49 {\"link_to_document\": \"URI\", \"name_of_legal_object\": \"R\\\\u00fcckrufsrecht wegen gewandelter \\\\u00dcberzeugung\", \"entire_text_of_legal_article\": [\"(1) Der Urheber kann ein Nutzungsrecht gegen\\\\u00fcber dem Inhaber zur\\\\u00fcckrufen,\\\\n                        wenn das Werk seiner \\\\u00dcberzeugung nicht mehr entspricht und ihm deshalb die\\\\n                        Verwertung des Werkes nicht mehr zugemutet werden kann. Der Rechtsnachfolger\\\\n                        des Urhebers (\\\\u00a7 30) kann den R\\\\u00fcckruf nur erkl\\\\u00e4ren, wenn er nachweist, da\\\\u00df\\\\n                        der Urheber vor seinem Tode zum R\\\\u00fcckruf berechtigt gewesen w\\\\u00e4re und an der\\\\n                        Erkl\\\\u00e4rung des R\\\\u00fcckrufs gehindert war oder diese letztwillig verf\\\\u00fcgt hat.\", \"(2) Auf das R\\\\u00fcckrufsrecht kann im voraus nicht verzichtet werden. Seine\\\\n                        Aus\\\\u00fcbung kann nicht ausgeschlossen werden.\", \"(3) Der Urheber hat den Inhaber des Nutzungsrechts angemessen zu\\\\n                        entsch\\\\u00e4digen. Die Entsch\\\\u00e4digung mu\\\\u00df mindestens die Aufwendungen decken, die\\\\n                        der Inhaber des Nutzungsrechts bis zur Erkl\\\\u00e4rung des R\\\\u00fcckrufs gemacht hat;\\\\n                        jedoch bleiben hierbei Aufwendungen, die auf bereits gezogene Nutzungen\\\\n                        entfallen, au\\\\u00dfer Betracht. Der R\\\\u00fcckruf wird erst wirksam, wenn der Urheber\\\\n                        die Aufwendungen ersetzt oder Sicherheit daf\\\\u00fcr geleistet hat. Der Inhaber\\\\n                        des Nutzungsrechts hat dem Urheber binnen einer Frist von drei Monaten nach\\\\n                        Erkl\\\\u00e4rung des R\\\\u00fcckrufs die Aufwendungen mitzuteilen; kommt er dieser Pflicht\\\\n                        nicht nach, so wird der R\\\\u00fcckruf bereits mit Ablauf dieser Frist wirksam.\", \"(4) Will der Urheber nach R\\\\u00fcckruf das Werk wieder verwerten, so ist er\\\\n                        verpflichtet, dem fr\\\\u00fcheren Inhaber des Nutzungsrechts ein entsprechendes\\\\n                        Nutzungsrecht zu angemessenen Bedingungen anzubieten.\", \"(5) Die Bestimmungen in \\\\u00a7 41 Abs. 5 und 7 sind entsprechend anzuwenden.\"], \"date_of_effect\": \"1965-09-09\", \"author\": \"BGBl I\", \"date_of_document\": \"20141215221017\", \"external_ID\": \"\\\\u00a7 42\"})\\n(GermanLegalArticle_48 {\"link_to_document\": \"URI\", \"name_of_legal_object\": \"R\\\\u00fcckrufsrecht wegen Nichtaus\\\\u00fcbung\", \"entire_text_of_legal_article\": [\"(1) \\\\u00dcbt der Inhaber eines ausschlie\\\\u00dflichen Nutzungsrechts das Recht nicht\\\\n                        oder nur unzureichend aus und werden dadurch berechtigte Interessen des\\\\n                        Urhebers erheblich verletzt, so kann dieser das Nu'"
       ]
      }
     ],
     "prompt_number": 24
    },
    {
     "cell_type": "markdown",
     "metadata": {},
     "source": [
      "the giigeoff string can then be written to a file"
     ]
    },
    {
     "cell_type": "code",
     "collapsed": false,
     "input": [
      "import codecs\n",
      "node4jfileobject = codecs.open(\"urheber.geoff\", mode=\"w\", encoding=\"utf-8\") \n",
      "node4jfileobject.write(giigeoff)"
     ],
     "language": "python",
     "metadata": {},
     "outputs": [],
     "prompt_number": 26
    },
    {
     "cell_type": "code",
     "collapsed": false,
     "input": [
      "ls"
     ],
     "language": "python",
     "metadata": {},
     "outputs": [
      {
       "output_type": "stream",
       "stream": "stdout",
       "text": [
        "giigraph.py  giigraph.pyc  __init__.py  urheber.geoff\r\n"
       ]
      }
     ],
     "prompt_number": 27
    }
   ],
   "metadata": {}
  }
 ]
}